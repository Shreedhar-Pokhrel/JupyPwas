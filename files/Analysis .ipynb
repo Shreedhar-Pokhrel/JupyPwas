{
  "metadata": {
    "language_info": {
      "codemirror_mode": {
        "name": "python",
        "version": 3
      },
      "file_extension": ".py",
      "mimetype": "text/x-python",
      "name": "python",
      "nbconvert_exporter": "python",
      "pygments_lexer": "ipython3",
      "version": "3.8"
    },
    "kernelspec": {
      "name": "python",
      "display_name": "Pyolite",
      "language": "python"
    }
  },
  "nbformat_minor": 4,
  "nbformat": 4,
  "cells": [
    {
      "cell_type": "code",
      "source": "import pandas as pd\nimport io\nimport datetime as dt\nfrom js import fetch\nfrom matplotlib import pyplot as plt\n%matplotlib inline",
      "metadata": {
        "trusted": true
      },
      "execution_count": 1,
      "outputs": []
    },
    {
      "cell_type": "code",
      "source": "url='https://raw.githubusercontent.com/Shreedhar-Pokhrel/Projects/main/data/'\nreq_doc = [\"10-21_1.csv\",\"10-21_2.csv\",\"after22.csv\"]\n# joining data gathered from github\ndfs = [await (await fetch(url+x)).text() for x in req_doc]\ndfs = [pd.read_csv(io.StringIO(x),low_memory=False,parse_dates=[\"date\"]).iloc[:,1:].dropna(how=\"all\") for x in dfs]\ndfs = pd.concat(dfs)\ndfs = dfs[dfs.loc[:,\"sector\"]!=\"Not Found\"]\ndfs = dfs[dfs.loc[:,\"closing price\"]!=0.0]\ndfs[\"diff\"]=dfs.loc[:,\"closing price\"]-dfs.loc[:,\"previous closing\"]\ndfs[\"vwap\"] = (dfs.loc[:,\"amount\"]/dfs.loc[:,\"traded shares\"]).round(2)\ndfs[\"range\"]=dfs.loc[:,\"max price\"]-dfs.loc[:,\"min price\"]\nfor i in [\"diff\",\"range\"]:\n    dfs[i+\"%\"] = (dfs[i]*100/dfs[\"closing price\"]).round(2)\nstocks = list(dfs[dfs.loc[:,\"date\"]==dfs.loc[:,\"date\"].max()].loc[:,\"stock symbol\"])\nsectors = list(dfs[dfs.loc[:,\"date\"]==dfs.loc[:,\"date\"].max()].loc[:,\"sector\"].drop_duplicates())",
      "metadata": {
        "trusted": true
      },
      "execution_count": 2,
      "outputs": []
    },
    {
      "cell_type": "code",
      "source": "def calculation(dfcc,column,basis):\n    if basis ==\"min\":\n        result = dfcc.loc[:,column].min()\n    elif basis == \"max\":\n        result = dfcc.loc[:,column].max()\n    elif basis == \"mean\":\n        result = dfcc.loc[:,column].mean().round(2)\n    elif basis == \"sum\":\n        result = dfcc.loc[:,column].sum()\n    else:\n        print(\"basis not valid\")\n    return result\n\ndef find_average(dfs):\n    price = \"closing price\"\n    index= [\"stock symbol\",\"sector\",\"closing price\",\"vwap\"]\n    percent = [\"diff\",\"range\"]\n    base = index+percent\n    days = [(120,price,\"mean\"),\n            (180,price,\"mean\"),\n            (365,price,\"min\"),\n            (365,price,\"max\")]\n    calc = [\"120d\",\"180d\",\"52wl\",\"52wh\"]\n    columns = base+calc\n    \n    latest = dfs.loc[:,\"date\"].max()\n    dates = [(latest - dt.timedelta(x),y,z) for x,y,z in days]\n    dfn= [(dfs[dfs.loc[:,\"date\"]>x],y,z) for x,y,z in dates]\n    basedata = dfs[dfs.loc[:,\"date\"]==dfs.loc[:,\"date\"].max()].loc[:,base].to_numpy()\n\n    averages =[]\n    for i in range(0,len(basedata)):\n        sym = basedata[i][0]\n        dfa = [(x[x.loc[:,\"stock symbol\"]==sym],y,z) for x,y,z in dfn]\n        results = [calculation(x,y,z) for x,y,z in dfa]\n        averages.append(list(basedata[i])+results)\n    new = pd.DataFrame(averages,columns=columns)\n    \n    for i in percent:\n        new[i] = (new[i]*100/new[price]).round(2)\n    for i in calc+[\"vwap\"]:\n        new[i+\" diff\"] = ((new[price]-new[i])*100/new[price]).round(2)\n    return new\ndf_avg=find_average\n\ndef sortdf(bol,basis,col=10,sec=sectors,avg = df_avg):\n    if len(avg)==0:\n        print(len(avg),end=\" \")\n        print(\"Proc Empty\")\n        global df_avg\n        df_avg=find_average(dfs)\n        avg=proc\n    # 1=True, 0=False\n    watching = [\"stock symbol\",\"sector\",\"closing price\",\"diff\",\"range\",\"52wl\",\"120d\"]\n    watch = list(dict.fromkeys(watching +[basis]))\n    df_res = avg[avg.loc[:,\"sector\"].isin(sec)].sort_values(ascending=bol, by=basis).loc[:,watch].reset_index(drop=True).head(col)\n    display(df_res)",
      "metadata": {
        "trusted": true
      },
      "execution_count": 3,
      "outputs": []
    },
    {
      "cell_type": "code",
      "source": "df_graph = dfs[dfs[\"sector\"]==\"Hydro Power\"]\ngraph_sc = list(df_graph[df_graph.loc[:,\"date\"]==df_graph.loc[:,\"date\"].max()].loc[:,\"stock symbol\"])\nfor i in graph_sc:\n    # plt.figure(figsize=(12,6))\n    # plt.plot(df_graph[df_graph[\"stock symbol\"]==i].iloc[-300:,:].loc[:,\"range\"].reset_index(drop=True))\n    # plt.grid(True)\n    # plt.title(i)\n    # plt.show()\n    df_graph[df_graph[\"stock symbol\"]==i].iloc[-300:,:].loc[:,\"range\"].reset_index(drop=True).plot(\n        figsize=(20,20),grid=True,legend=i)",
      "metadata": {},
      "execution_count": null,
      "outputs": []
    },
    {
      "cell_type": "code",
      "source": "",
      "metadata": {},
      "execution_count": null,
      "outputs": []
    }
  ]
}